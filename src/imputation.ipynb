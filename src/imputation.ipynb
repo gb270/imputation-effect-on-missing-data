{
 "cells": [
  {
   "cell_type": "markdown",
   "metadata": {},
   "source": [
    "What we're going to do is take a complete dataset and then see how fair imputation differs when data is missing for systemic reasons vs non systemic reasons\n",
    "\n",
    "Outline:\n",
    "\n",
    "- Take a dataset and then calculate fairness. This will be the baseline dataset.\n",
    "- Then create two seperate datasets with synthetically missing data. One dataset will be missing data entirely at random. The other dataset will be missing data that is missing data systematically. So the data that is missing will be biased. For example: If salary data is used then women are less likely to have filled in data about their salary.\n",
    "\n",
    "\n",
    "For this we will be using the [Salary_Data](https://www.kaggle.com/datasets/mohithsairamreddy/salary-data) dataset from Kaggle.com"
   ]
  },
  {
   "cell_type": "code",
   "execution_count": 1,
   "metadata": {},
   "outputs": [],
   "source": [
    "import pandas as pd"
   ]
  },
  {
   "cell_type": "code",
   "execution_count": 2,
   "metadata": {},
   "outputs": [
    {
     "data": {
      "text/html": [
       "<div>\n",
       "<style scoped>\n",
       "    .dataframe tbody tr th:only-of-type {\n",
       "        vertical-align: middle;\n",
       "    }\n",
       "\n",
       "    .dataframe tbody tr th {\n",
       "        vertical-align: top;\n",
       "    }\n",
       "\n",
       "    .dataframe thead th {\n",
       "        text-align: right;\n",
       "    }\n",
       "</style>\n",
       "<table border=\"1\" class=\"dataframe\">\n",
       "  <thead>\n",
       "    <tr style=\"text-align: right;\">\n",
       "      <th></th>\n",
       "      <th>Age</th>\n",
       "      <th>Gender</th>\n",
       "      <th>Education Level</th>\n",
       "      <th>Job Title</th>\n",
       "      <th>Years of Experience</th>\n",
       "      <th>Salary</th>\n",
       "    </tr>\n",
       "  </thead>\n",
       "  <tbody>\n",
       "    <tr>\n",
       "      <th>0</th>\n",
       "      <td>32.0</td>\n",
       "      <td>Male</td>\n",
       "      <td>Bachelor's</td>\n",
       "      <td>Software Engineer</td>\n",
       "      <td>5.0</td>\n",
       "      <td>90000.0</td>\n",
       "    </tr>\n",
       "    <tr>\n",
       "      <th>1</th>\n",
       "      <td>28.0</td>\n",
       "      <td>Female</td>\n",
       "      <td>Master's</td>\n",
       "      <td>Data Analyst</td>\n",
       "      <td>3.0</td>\n",
       "      <td>65000.0</td>\n",
       "    </tr>\n",
       "    <tr>\n",
       "      <th>2</th>\n",
       "      <td>45.0</td>\n",
       "      <td>Male</td>\n",
       "      <td>PhD</td>\n",
       "      <td>Senior Manager</td>\n",
       "      <td>15.0</td>\n",
       "      <td>150000.0</td>\n",
       "    </tr>\n",
       "    <tr>\n",
       "      <th>3</th>\n",
       "      <td>36.0</td>\n",
       "      <td>Female</td>\n",
       "      <td>Bachelor's</td>\n",
       "      <td>Sales Associate</td>\n",
       "      <td>7.0</td>\n",
       "      <td>60000.0</td>\n",
       "    </tr>\n",
       "    <tr>\n",
       "      <th>4</th>\n",
       "      <td>52.0</td>\n",
       "      <td>Male</td>\n",
       "      <td>Master's</td>\n",
       "      <td>Director</td>\n",
       "      <td>20.0</td>\n",
       "      <td>200000.0</td>\n",
       "    </tr>\n",
       "  </tbody>\n",
       "</table>\n",
       "</div>"
      ],
      "text/plain": [
       "    Age  Gender Education Level          Job Title  Years of Experience  \\\n",
       "0  32.0    Male      Bachelor's  Software Engineer                  5.0   \n",
       "1  28.0  Female        Master's       Data Analyst                  3.0   \n",
       "2  45.0    Male             PhD     Senior Manager                 15.0   \n",
       "3  36.0  Female      Bachelor's    Sales Associate                  7.0   \n",
       "4  52.0    Male        Master's           Director                 20.0   \n",
       "\n",
       "     Salary  \n",
       "0   90000.0  \n",
       "1   65000.0  \n",
       "2  150000.0  \n",
       "3   60000.0  \n",
       "4  200000.0  "
      ]
     },
     "execution_count": 2,
     "metadata": {},
     "output_type": "execute_result"
    }
   ],
   "source": [
    "df = pd.read_csv('Salary_Data.csv')\n",
    "df.head()"
   ]
  },
  {
   "cell_type": "code",
   "execution_count": 3,
   "metadata": {},
   "outputs": [
    {
     "data": {
      "text/plain": [
       "Age                    6702\n",
       "Gender                 6702\n",
       "Education Level        6701\n",
       "Job Title              6702\n",
       "Years of Experience    6701\n",
       "Salary                 6699\n",
       "dtype: int64"
      ]
     },
     "execution_count": 3,
     "metadata": {},
     "output_type": "execute_result"
    }
   ],
   "source": [
    "df.count()"
   ]
  },
  {
   "cell_type": "code",
   "execution_count": 4,
   "metadata": {},
   "outputs": [
    {
     "data": {
      "text/html": [
       "<div>\n",
       "<style scoped>\n",
       "    .dataframe tbody tr th:only-of-type {\n",
       "        vertical-align: middle;\n",
       "    }\n",
       "\n",
       "    .dataframe tbody tr th {\n",
       "        vertical-align: top;\n",
       "    }\n",
       "\n",
       "    .dataframe thead th {\n",
       "        text-align: right;\n",
       "    }\n",
       "</style>\n",
       "<table border=\"1\" class=\"dataframe\">\n",
       "  <thead>\n",
       "    <tr style=\"text-align: right;\">\n",
       "      <th></th>\n",
       "      <th>Age</th>\n",
       "      <th>Gender</th>\n",
       "      <th>Education Level</th>\n",
       "      <th>Job Title</th>\n",
       "      <th>Years of Experience</th>\n",
       "      <th>Salary</th>\n",
       "    </tr>\n",
       "  </thead>\n",
       "  <tbody>\n",
       "    <tr>\n",
       "      <th>172</th>\n",
       "      <td>NaN</td>\n",
       "      <td>NaN</td>\n",
       "      <td>NaN</td>\n",
       "      <td>NaN</td>\n",
       "      <td>NaN</td>\n",
       "      <td>NaN</td>\n",
       "    </tr>\n",
       "    <tr>\n",
       "      <th>260</th>\n",
       "      <td>NaN</td>\n",
       "      <td>NaN</td>\n",
       "      <td>NaN</td>\n",
       "      <td>NaN</td>\n",
       "      <td>NaN</td>\n",
       "      <td>NaN</td>\n",
       "    </tr>\n",
       "    <tr>\n",
       "      <th>2011</th>\n",
       "      <td>27.0</td>\n",
       "      <td>Male</td>\n",
       "      <td>NaN</td>\n",
       "      <td>Developer</td>\n",
       "      <td>7.0</td>\n",
       "      <td>100000.0</td>\n",
       "    </tr>\n",
       "    <tr>\n",
       "      <th>3136</th>\n",
       "      <td>31.0</td>\n",
       "      <td>Male</td>\n",
       "      <td>Master's Degree</td>\n",
       "      <td>Full Stack Engineer</td>\n",
       "      <td>8.0</td>\n",
       "      <td>NaN</td>\n",
       "    </tr>\n",
       "    <tr>\n",
       "      <th>5247</th>\n",
       "      <td>26.0</td>\n",
       "      <td>Female</td>\n",
       "      <td>Bachelor's Degree</td>\n",
       "      <td>Social M</td>\n",
       "      <td>NaN</td>\n",
       "      <td>NaN</td>\n",
       "    </tr>\n",
       "    <tr>\n",
       "      <th>6455</th>\n",
       "      <td>36.0</td>\n",
       "      <td>Male</td>\n",
       "      <td>Bachelor's Degree</td>\n",
       "      <td>Sales Director</td>\n",
       "      <td>6.0</td>\n",
       "      <td>NaN</td>\n",
       "    </tr>\n",
       "  </tbody>\n",
       "</table>\n",
       "</div>"
      ],
      "text/plain": [
       "       Age  Gender    Education Level            Job Title  \\\n",
       "172    NaN     NaN                NaN                  NaN   \n",
       "260    NaN     NaN                NaN                  NaN   \n",
       "2011  27.0    Male                NaN            Developer   \n",
       "3136  31.0    Male    Master's Degree  Full Stack Engineer   \n",
       "5247  26.0  Female  Bachelor's Degree             Social M   \n",
       "6455  36.0    Male  Bachelor's Degree       Sales Director   \n",
       "\n",
       "      Years of Experience    Salary  \n",
       "172                   NaN       NaN  \n",
       "260                   NaN       NaN  \n",
       "2011                  7.0  100000.0  \n",
       "3136                  8.0       NaN  \n",
       "5247                  NaN       NaN  \n",
       "6455                  6.0       NaN  "
      ]
     },
     "execution_count": 4,
     "metadata": {},
     "output_type": "execute_result"
    }
   ],
   "source": [
    "df[df.isnull().any(axis=1)]"
   ]
  },
  {
   "cell_type": "markdown",
   "metadata": {},
   "source": [
    "There are 2 values that are completely missing data. These can be disposed of easily and then 4 pieces of data that are missing data partially. This amounts to a small amount of data so will be deleted. Although the irony of doing this given the nature of my research is not lost on me."
   ]
  },
  {
   "cell_type": "code",
   "execution_count": 5,
   "metadata": {},
   "outputs": [],
   "source": [
    "df.dropna(inplace=True)\n"
   ]
  },
  {
   "cell_type": "code",
   "execution_count": 6,
   "metadata": {},
   "outputs": [
    {
     "data": {
      "text/plain": [
       "Age                    6698\n",
       "Gender                 6698\n",
       "Education Level        6698\n",
       "Job Title              6698\n",
       "Years of Experience    6698\n",
       "Salary                 6698\n",
       "dtype: int64"
      ]
     },
     "execution_count": 6,
     "metadata": {},
     "output_type": "execute_result"
    }
   ],
   "source": [
    "df.count()"
   ]
  },
  {
   "cell_type": "code",
   "execution_count": 7,
   "metadata": {},
   "outputs": [
    {
     "data": {
      "text/html": [
       "<div>\n",
       "<style scoped>\n",
       "    .dataframe tbody tr th:only-of-type {\n",
       "        vertical-align: middle;\n",
       "    }\n",
       "\n",
       "    .dataframe tbody tr th {\n",
       "        vertical-align: top;\n",
       "    }\n",
       "\n",
       "    .dataframe thead th {\n",
       "        text-align: right;\n",
       "    }\n",
       "</style>\n",
       "<table border=\"1\" class=\"dataframe\">\n",
       "  <thead>\n",
       "    <tr style=\"text-align: right;\">\n",
       "      <th></th>\n",
       "      <th>Age</th>\n",
       "      <th>Gender</th>\n",
       "      <th>Education Level</th>\n",
       "      <th>Job Title</th>\n",
       "      <th>Years of Experience</th>\n",
       "      <th>Salary</th>\n",
       "    </tr>\n",
       "  </thead>\n",
       "  <tbody>\n",
       "  </tbody>\n",
       "</table>\n",
       "</div>"
      ],
      "text/plain": [
       "Empty DataFrame\n",
       "Columns: [Age, Gender, Education Level, Job Title, Years of Experience, Salary]\n",
       "Index: []"
      ]
     },
     "execution_count": 7,
     "metadata": {},
     "output_type": "execute_result"
    }
   ],
   "source": [
    "df[df.isnull().any(axis=1)]"
   ]
  },
  {
   "cell_type": "code",
   "execution_count": 8,
   "metadata": {},
   "outputs": [
    {
     "data": {
      "text/plain": [
       "Age                    float64\n",
       "Gender                  object\n",
       "Education Level         object\n",
       "Job Title               object\n",
       "Years of Experience    float64\n",
       "Salary                 float64\n",
       "dtype: object"
      ]
     },
     "execution_count": 8,
     "metadata": {},
     "output_type": "execute_result"
    }
   ],
   "source": [
    "df.dtypes"
   ]
  },
  {
   "cell_type": "code",
   "execution_count": 9,
   "metadata": {},
   "outputs": [
    {
     "data": {
      "text/plain": [
       "array(['Male', 'Female', 'Other'], dtype=object)"
      ]
     },
     "execution_count": 9,
     "metadata": {},
     "output_type": "execute_result"
    }
   ],
   "source": [
    "df['Gender'].unique()"
   ]
  },
  {
   "cell_type": "code",
   "execution_count": 10,
   "metadata": {},
   "outputs": [
    {
     "name": "stderr",
     "output_type": "stream",
     "text": [
      "/var/folders/6w/80_zjn_967155t1gs52zd8jc0000gn/T/ipykernel_18288/753572149.py:1: FutureWarning: A value is trying to be set on a copy of a DataFrame or Series through chained assignment using an inplace method.\n",
      "The behavior will change in pandas 3.0. This inplace method will never work because the intermediate object on which we are setting values always behaves as a copy.\n",
      "\n",
      "For example, when doing 'df[col].method(value, inplace=True)', try using 'df.method({col: value}, inplace=True)' or df[col] = df[col].method(value) instead, to perform the operation inplace on the original object.\n",
      "\n",
      "\n",
      "  df['Gender'].replace({'Male': 0, 'Female': 1, 'Other': 2}, inplace=True)\n",
      "/var/folders/6w/80_zjn_967155t1gs52zd8jc0000gn/T/ipykernel_18288/753572149.py:1: FutureWarning: Downcasting behavior in `replace` is deprecated and will be removed in a future version. To retain the old behavior, explicitly call `result.infer_objects(copy=False)`. To opt-in to the future behavior, set `pd.set_option('future.no_silent_downcasting', True)`\n",
      "  df['Gender'].replace({'Male': 0, 'Female': 1, 'Other': 2}, inplace=True)\n"
     ]
    },
    {
     "data": {
      "text/plain": [
       "array([0, 1, 2])"
      ]
     },
     "execution_count": 10,
     "metadata": {},
     "output_type": "execute_result"
    }
   ],
   "source": [
    "df['Gender'].replace({'Male': 0, 'Female': 1, 'Other': 2}, inplace=True)\n",
    "df['Gender'].unique()"
   ]
  },
  {
   "cell_type": "code",
   "execution_count": 11,
   "metadata": {},
   "outputs": [
    {
     "data": {
      "text/plain": [
       "array([\"Bachelor's\", \"Master's\", 'PhD', \"Bachelor's Degree\",\n",
       "       \"Master's Degree\", 'High School', 'phD'], dtype=object)"
      ]
     },
     "execution_count": 11,
     "metadata": {},
     "output_type": "execute_result"
    }
   ],
   "source": [
    "df['Education Level'].unique()"
   ]
  },
  {
   "cell_type": "code",
   "execution_count": 12,
   "metadata": {},
   "outputs": [
    {
     "name": "stderr",
     "output_type": "stream",
     "text": [
      "/var/folders/6w/80_zjn_967155t1gs52zd8jc0000gn/T/ipykernel_18288/3528430564.py:1: FutureWarning: A value is trying to be set on a copy of a DataFrame or Series through chained assignment using an inplace method.\n",
      "The behavior will change in pandas 3.0. This inplace method will never work because the intermediate object on which we are setting values always behaves as a copy.\n",
      "\n",
      "For example, when doing 'df[col].method(value, inplace=True)', try using 'df.method({col: value}, inplace=True)' or df[col] = df[col].method(value) instead, to perform the operation inplace on the original object.\n",
      "\n",
      "\n",
      "  df['Education Level'].replace({\"Bachelor's\": 1, \"Master's\": 2, 'PhD': 3, \"Bachelor's Degree\": 1,\n",
      "/var/folders/6w/80_zjn_967155t1gs52zd8jc0000gn/T/ipykernel_18288/3528430564.py:1: FutureWarning: Downcasting behavior in `replace` is deprecated and will be removed in a future version. To retain the old behavior, explicitly call `result.infer_objects(copy=False)`. To opt-in to the future behavior, set `pd.set_option('future.no_silent_downcasting', True)`\n",
      "  df['Education Level'].replace({\"Bachelor's\": 1, \"Master's\": 2, 'PhD': 3, \"Bachelor's Degree\": 1,\n"
     ]
    },
    {
     "data": {
      "text/plain": [
       "array([1, 2, 3, 0])"
      ]
     },
     "execution_count": 12,
     "metadata": {},
     "output_type": "execute_result"
    }
   ],
   "source": [
    "df['Education Level'].replace({\"Bachelor's\": 1, \"Master's\": 2, 'PhD': 3, \"Bachelor's Degree\": 1,\n",
    "       \"Master's Degree\": 2, 'High School': 0, 'phD': 3}, inplace=True)\n",
    "df['Education Level'].unique()"
   ]
  },
  {
   "cell_type": "markdown",
   "metadata": {},
   "source": [
    "Converting job titles into a numeric value is a bit more involved as individuals can list a wide variety of job titles. Yet, performing evaluations easily requires numeric values. To solve this I train a model to vectorise all the words then use KMeans and PCA group job titles into similar groups."
   ]
  },
  {
   "cell_type": "code",
   "execution_count": 13,
   "metadata": {},
   "outputs": [],
   "source": [
    "from gensim.corpora import Dictionary\n",
    "from gensim.models import TfidfModel\n",
    "from gensim.utils import simple_preprocess\n",
    "\n",
    "data = df.copy()\n",
    "\n",
    "job_titles = data['Job Title'].tolist()\n",
    "tokenized_job_titles = [simple_preprocess(title) for title in job_titles]\n",
    "dictionary = Dictionary(tokenized_job_titles)\n",
    "\n",
    "\n",
    "bow_corpus = [dictionary.doc2bow(doc) for doc in tokenized_job_titles]\n",
    "tfidf = TfidfModel(bow_corpus)\n",
    "tfidf_corpus = tfidf[bow_corpus]\n"
   ]
  },
  {
   "cell_type": "code",
   "execution_count": 14,
   "metadata": {},
   "outputs": [
    {
     "name": "stdout",
     "output_type": "stream",
     "text": [
      "<gensim.models.fasttext.FastText object at 0x11eaf0fd0>\n"
     ]
    }
   ],
   "source": [
    "from pprint import pprint as print\n",
    "from gensim.models.fasttext import FastText\n",
    "from gensim.test.utils import datapath\n",
    "\n",
    "\n",
    "corpus_file = datapath('lee_background.cor')\n",
    "\n",
    "model = FastText(vector_size=100)\n",
    "model.build_vocab(corpus_file=corpus_file)\n",
    "\n",
    "model.train(\n",
    "    corpus_file=corpus_file, epochs=model.epochs,\n",
    "    total_examples=model.corpus_count, total_words=model.corpus_total_words,\n",
    ")\n",
    "\n",
    "print(model)"
   ]
  },
  {
   "cell_type": "code",
   "execution_count": 15,
   "metadata": {},
   "outputs": [
    {
     "data": {
      "image/png": "[encoded data removed]",
      "text/plain": [
       "<Figure size 1000x600 with 1 Axes>"
      ]
     },
     "metadata": {},
     "output_type": "display_data"
    }
   ],
   "source": [
    "from sklearn.cluster import KMeans\n",
    "from sklearn.decomposition import PCA\n",
    "import matplotlib.pyplot as plt\n",
    "\n",
    "job_titles = data['Job Title'].tolist()\n",
    "job_title_embeddings = [model.wv[title] for title in job_titles]\n",
    "\n",
    "kmeans = KMeans(n_clusters=5)  \n",
    "kmeans.fit(job_title_embeddings)\n",
    "cluster_labels = kmeans.labels_\n",
    "\n",
    "pca = PCA(n_components=2)  \n",
    "job_title_embeddings_2d = pca.fit_transform(job_title_embeddings)\n",
    "\n",
    "plt.figure(figsize=(10, 6))\n",
    "for cluster_label in range(kmeans.n_clusters):\n",
    "    plt.scatter(job_title_embeddings_2d[cluster_labels == cluster_label, 0],\n",
    "                job_title_embeddings_2d[cluster_labels == cluster_label, 1],\n",
    "                label=f'Cluster {cluster_label + 1}')\n",
    "plt.title('K-means Clustering of Job Titles')\n",
    "plt.xlabel('PCA Component 1')\n",
    "plt.ylabel('PCA Component 2')\n",
    "plt.legend()\n",
    "plt.show()\n"
   ]
  },
  {
   "cell_type": "code",
   "execution_count": 16,
   "metadata": {},
   "outputs": [
    {
     "data": {
      "text/html": [
       "<div>\n",
       "<style scoped>\n",
       "    .dataframe tbody tr th:only-of-type {\n",
       "        vertical-align: middle;\n",
       "    }\n",
       "\n",
       "    .dataframe tbody tr th {\n",
       "        vertical-align: top;\n",
       "    }\n",
       "\n",
       "    .dataframe thead th {\n",
       "        text-align: right;\n",
       "    }\n",
       "</style>\n",
       "<table border=\"1\" class=\"dataframe\">\n",
       "  <thead>\n",
       "    <tr style=\"text-align: right;\">\n",
       "      <th></th>\n",
       "      <th>Age</th>\n",
       "      <th>Gender</th>\n",
       "      <th>Education Level</th>\n",
       "      <th>Job Title</th>\n",
       "      <th>Years of Experience</th>\n",
       "      <th>Salary</th>\n",
       "    </tr>\n",
       "  </thead>\n",
       "  <tbody>\n",
       "    <tr>\n",
       "      <th>0</th>\n",
       "      <td>32.0</td>\n",
       "      <td>0</td>\n",
       "      <td>1</td>\n",
       "      <td>1</td>\n",
       "      <td>5.0</td>\n",
       "      <td>90000.0</td>\n",
       "    </tr>\n",
       "    <tr>\n",
       "      <th>1</th>\n",
       "      <td>28.0</td>\n",
       "      <td>1</td>\n",
       "      <td>2</td>\n",
       "      <td>1</td>\n",
       "      <td>3.0</td>\n",
       "      <td>65000.0</td>\n",
       "    </tr>\n",
       "    <tr>\n",
       "      <th>2</th>\n",
       "      <td>45.0</td>\n",
       "      <td>0</td>\n",
       "      <td>3</td>\n",
       "      <td>4</td>\n",
       "      <td>15.0</td>\n",
       "      <td>150000.0</td>\n",
       "    </tr>\n",
       "    <tr>\n",
       "      <th>3</th>\n",
       "      <td>36.0</td>\n",
       "      <td>1</td>\n",
       "      <td>1</td>\n",
       "      <td>1</td>\n",
       "      <td>7.0</td>\n",
       "      <td>60000.0</td>\n",
       "    </tr>\n",
       "    <tr>\n",
       "      <th>4</th>\n",
       "      <td>52.0</td>\n",
       "      <td>0</td>\n",
       "      <td>2</td>\n",
       "      <td>3</td>\n",
       "      <td>20.0</td>\n",
       "      <td>200000.0</td>\n",
       "    </tr>\n",
       "  </tbody>\n",
       "</table>\n",
       "</div>"
      ],
      "text/plain": [
       "    Age  Gender  Education Level  Job Title  Years of Experience    Salary\n",
       "0  32.0       0                1          1                  5.0   90000.0\n",
       "1  28.0       1                2          1                  3.0   65000.0\n",
       "2  45.0       0                3          4                 15.0  150000.0\n",
       "3  36.0       1                1          1                  7.0   60000.0\n",
       "4  52.0       0                2          3                 20.0  200000.0"
      ]
     },
     "execution_count": 16,
     "metadata": {},
     "output_type": "execute_result"
    }
   ],
   "source": [
    "from sklearn.cluster import KMeans\n",
    "import numpy as np\n",
    "\n",
    "job_title_embeddings = [model.wv[title] for title in data['Job Title']]\n",
    "job_title_embeddings_array = np.array(job_title_embeddings)\n",
    "\n",
    "kmeans = KMeans(n_clusters=5)  \n",
    "kmeans.fit(job_title_embeddings_array)\n",
    "\n",
    "data['Job Title'] = kmeans.labels_\n",
    "\n",
    "data.head()\n"
   ]
  },
  {
   "cell_type": "code",
   "execution_count": 17,
   "metadata": {},
   "outputs": [],
   "source": [
    "data['Job Title'] = data['Job Title'].astype('int64')"
   ]
  },
  {
   "cell_type": "code",
   "execution_count": 18,
   "metadata": {},
   "outputs": [],
   "source": [
    "df = data.copy()"
   ]
  },
  {
   "cell_type": "code",
   "execution_count": 19,
   "metadata": {},
   "outputs": [
    {
     "data": {
      "text/html": [
       "<div>\n",
       "<style scoped>\n",
       "    .dataframe tbody tr th:only-of-type {\n",
       "        vertical-align: middle;\n",
       "    }\n",
       "\n",
       "    .dataframe tbody tr th {\n",
       "        vertical-align: top;\n",
       "    }\n",
       "\n",
       "    .dataframe thead th {\n",
       "        text-align: right;\n",
       "    }\n",
       "</style>\n",
       "<table border=\"1\" class=\"dataframe\">\n",
       "  <thead>\n",
       "    <tr style=\"text-align: right;\">\n",
       "      <th></th>\n",
       "      <th>Age</th>\n",
       "      <th>Gender</th>\n",
       "      <th>Education Level</th>\n",
       "      <th>Job Title</th>\n",
       "      <th>Years of Experience</th>\n",
       "      <th>Salary</th>\n",
       "    </tr>\n",
       "  </thead>\n",
       "  <tbody>\n",
       "    <tr>\n",
       "      <th>0</th>\n",
       "      <td>32.0</td>\n",
       "      <td>0</td>\n",
       "      <td>1</td>\n",
       "      <td>1</td>\n",
       "      <td>5.0</td>\n",
       "      <td>90000.0</td>\n",
       "    </tr>\n",
       "    <tr>\n",
       "      <th>1</th>\n",
       "      <td>28.0</td>\n",
       "      <td>1</td>\n",
       "      <td>2</td>\n",
       "      <td>1</td>\n",
       "      <td>3.0</td>\n",
       "      <td>65000.0</td>\n",
       "    </tr>\n",
       "    <tr>\n",
       "      <th>2</th>\n",
       "      <td>45.0</td>\n",
       "      <td>0</td>\n",
       "      <td>3</td>\n",
       "      <td>4</td>\n",
       "      <td>15.0</td>\n",
       "      <td>150000.0</td>\n",
       "    </tr>\n",
       "    <tr>\n",
       "      <th>3</th>\n",
       "      <td>36.0</td>\n",
       "      <td>1</td>\n",
       "      <td>1</td>\n",
       "      <td>1</td>\n",
       "      <td>7.0</td>\n",
       "      <td>60000.0</td>\n",
       "    </tr>\n",
       "    <tr>\n",
       "      <th>4</th>\n",
       "      <td>52.0</td>\n",
       "      <td>0</td>\n",
       "      <td>2</td>\n",
       "      <td>3</td>\n",
       "      <td>20.0</td>\n",
       "      <td>200000.0</td>\n",
       "    </tr>\n",
       "  </tbody>\n",
       "</table>\n",
       "</div>"
      ],
      "text/plain": [
       "    Age  Gender  Education Level  Job Title  Years of Experience    Salary\n",
       "0  32.0       0                1          1                  5.0   90000.0\n",
       "1  28.0       1                2          1                  3.0   65000.0\n",
       "2  45.0       0                3          4                 15.0  150000.0\n",
       "3  36.0       1                1          1                  7.0   60000.0\n",
       "4  52.0       0                2          3                 20.0  200000.0"
      ]
     },
     "execution_count": 19,
     "metadata": {},
     "output_type": "execute_result"
    }
   ],
   "source": [
    "df.head()"
   ]
  },
  {
   "cell_type": "markdown",
   "metadata": {},
   "source": [
    "# Baseline model\n",
    "\n",
    "With the baseline model we will train a model to predict the salary of a person.\n",
    "Then calculate fairness metrics using this model. We will use this as a control model to compare the impact of fairness when imputation is used on data that is missing completely at random or data that is missing for systematic reasons.\n",
    "\n",
    "The fairness metrics that will be assessed are:\n",
    "- Demographic/ Statistical Parity\n",
    "- Conditional Demographic Parity (used to avoid Simpson's paradox)\n",
    "- Disparate Impact\n",
    "\n",
    "These metrics were chosen for the slightly varied ways that they assess fairness."
   ]
  },
  {
   "cell_type": "code",
   "execution_count": 20,
   "metadata": {},
   "outputs": [],
   "source": [
    "from sklearn.model_selection import train_test_split\n",
    "from sklearn.ensemble import RandomForestRegressor\n",
    "from sklearn.metrics import mean_squared_error"
   ]
  },
  {
   "cell_type": "code",
   "execution_count": 21,
   "metadata": {},
   "outputs": [
    {
     "name": "stdout",
     "output_type": "stream",
     "text": [
      "'Mean Squared Error: 172268614.15741777'\n"
     ]
    }
   ],
   "source": [
    "X = data[['Age', 'Gender', 'Education Level', 'Job Title', 'Years of Experience']]\n",
    "y = data['Salary']\n",
    "\n",
    "X_train, X_test, y_train, y_test = train_test_split(X, y, test_size=0.2, random_state=42)\n",
    "\n",
    "model = RandomForestRegressor(n_estimators=100, random_state=42) \n",
    "model.fit(X_train, y_train)\n",
    "\n",
    "y_pred = model.predict(X_test)\n",
    "\n",
    "mse = mean_squared_error(y_test, y_pred)\n",
    "print(f'Mean Squared Error: {mse}')"
   ]
  },
  {
   "cell_type": "code",
   "execution_count": 22,
   "metadata": {},
   "outputs": [
    {
     "name": "stdout",
     "output_type": "stream",
     "text": [
      "               Feature  Importance\n",
      "4  Years of Experience    0.779674\n",
      "0                  Age    0.082758\n",
      "3            Job Title    0.065185\n",
      "2      Education Level    0.055966\n",
      "1               Gender    0.016417\n"
     ]
    },
    {
     "data": {
      "image/png": "[encoded data removed]",
      "text/plain": [
       "<Figure size 1000x600 with 1 Axes>"
      ]
     },
     "metadata": {},
     "output_type": "display_data"
    }
   ],
   "source": [
    "# Get feature importances\n",
    "feature_importances = model.feature_importances_\n",
    "importance_df = pd.DataFrame({\n",
    "    'Feature': ['Age', 'Gender', 'Education Level', 'Job Title', 'Years of Experience'],\n",
    "    'Importance': feature_importances\n",
    "})\n",
    "\n",
    "importance_df = importance_df.sort_values(by='Importance', ascending=False)\n",
    "print(importance_df)\n",
    "\n",
    "import matplotlib.pyplot as plt\n",
    "\n",
    "plt.figure(figsize=(10, 6))\n",
    "plt.bar(importance_df['Feature'], importance_df['Importance'])\n",
    "plt.xlabel('Feature')\n",
    "plt.ylabel('Importance')\n",
    "plt.title('Feature Importances')\n",
    "plt.xticks(rotation=45)\n",
    "plt.show()"
   ]
  },
  {
   "cell_type": "markdown",
   "metadata": {},
   "source": [
    "### Baseline model evaluation\n",
    "\n",
    "Now that the model is trained we will evaluate it on certain fairness metrics.\n",
    "[Fairness metric calculations](https://transformernlp.medium.com/ai-fairness-a-brief-introduction-to-ai-fairness-360-b2e39c96ca49)"
   ]
  },
  {
   "cell_type": "markdown",
   "metadata": {},
   "source": [
    "Stastiical Parity Difference is the difference in the rate of favourable outcomes received by unprivileged groups to the privileged group. Ideally this value will be 0 which signifies no bias. Negative values represent a bias towards the privileged group and positive values represent a bias towards the unprivileged group."
   ]
  },
  {
   "cell_type": "code",
   "execution_count": 23,
   "metadata": {},
   "outputs": [],
   "source": [
    "def statistical_parity_difference(df, protected_characteristic, target, privileged_group, unprivileged_group, favourable_threshold):\n",
    "    \"\"\"\n",
    "    Calculates the statistical parity difference.\n",
    "    :param df: the dataframe that you are using, needs to be a pandas df\n",
    "    :protected_characteristic: the characteristic we are differentiating between (i.e. Gender)\n",
    "    :target: the target variable (i.e. salary)\n",
    "    :param privileged_group: the group that is privileged\n",
    "    :param unprivileged_group: group that is unprivileged\n",
    "    :param favourable_threshold: amount that labels someone as being treated favourably (we are dealing with salary so that is why we are talking about treating someone favourably)\n",
    "\n",
    "    Statistical parity is calculated using the formula: (number of favorable instances for unprivileged group/total number of instances of unprivileged group) - (number of favorable instances for privileged group/total number of instances of privileged group)\n",
    "    \"\"\"\n",
    "\n",
    "    number_of_favourable_instances_for_unprivileged_group = df.query(f'{target} >= {favourable_threshold} & {protected_characteristic} == {unprivileged_group}').shape[0]\n",
    "    total_number_of_instances_of_unprivileged_group = df.query(f'{protected_characteristic} == {unprivileged_group}').shape[0]\n",
    "\n",
    "    number_of_favourable_instances_for_privileged_group = df.query(f'{target} >= {favourable_threshold} & {protected_characteristic} == {privileged_group}').shape[0]\n",
    "    total_number_of_instances_of_privileged_group = df.query(f'{protected_characteristic} == {privileged_group}').shape[0]\n",
    "\n",
    "    return (number_of_favourable_instances_for_unprivileged_group/total_number_of_instances_of_unprivileged_group) - (number_of_favourable_instances_for_privileged_group /total_number_of_instances_of_privileged_group)\n"
   ]
  },
  {
   "cell_type": "code",
   "execution_count": 24,
   "metadata": {},
   "outputs": [
    {
     "name": "stdout",
     "output_type": "stream",
     "text": [
      "2136\n"
     ]
    },
    {
     "data": {
      "text/plain": [
       "-0.08717368656642066"
      ]
     },
     "execution_count": 24,
     "metadata": {},
     "output_type": "execute_result"
    }
   ],
   "source": [
    "print((df['Salary'] >= 150000).sum()) # we consider those that earn over £150,000 to be treated favourably\n",
    "statistical_parity_difference(df, 'Gender', 'Salary', 0, 1, 150000)"
   ]
  },
  {
   "cell_type": "markdown",
   "metadata": {},
   "source": [
    "Disparate impact is the rate of favourable outcome for the unprivileged group to the privileged group. The ideal value is 1."
   ]
  },
  {
   "cell_type": "code",
   "execution_count": 25,
   "metadata": {},
   "outputs": [],
   "source": [
    "def disparate_impact(df, protected_characteristic, target, privileged_group, unprivileged_group, favourable_threshold):\n",
    "    \"\"\"\n",
    "    Calculates the disparate impact.\n",
    "    :param df: the dataframe that you are using, needs to be a pandas df\n",
    "    :protected_characteristic: the characteristic we are differentiating between (i.e. Gender)\n",
    "    :target: the target variable (i.e. salary)\n",
    "    :param privileged_group: the group that is privileged\n",
    "    :param unprivileged_group: group that is unprivileged\n",
    "    :param favourable_threshold: amount that labels someone as being treated favourably (we are dealing with salary so that is why we are talking about treating someone favourably)\n",
    "\n",
    "    Disparate impact is calculated using the formula: (number of favorable instances for unprivileged group/total number of instances of unprivileged group) / (number of favorable instances for privileged group/total number of instances of privileged group)\n",
    "    \"\"\"\n",
    "    number_of_favourable_instances_for_unprivileged_group = df.query(f'{target} >= {favourable_threshold} & {protected_characteristic} == {unprivileged_group}').shape[0]\n",
    "    total_number_of_instances_of_unprivileged_group = df.query(f'{protected_characteristic} == {unprivileged_group}').shape[0]\n",
    "\n",
    "    number_of_favourable_instances_for_privileged_group = df.query(f'{target} >= {favourable_threshold} & {protected_characteristic} == {privileged_group}').shape[0]\n",
    "    total_number_of_instances_of_privileged_group = df.query(f'{protected_characteristic} == {privileged_group}').shape[0]\n",
    "\n",
    "    return (number_of_favourable_instances_for_unprivileged_group/total_number_of_instances_of_unprivileged_group) / (number_of_favourable_instances_for_privileged_group /total_number_of_instances_of_privileged_group)\n",
    "\n",
    "    "
   ]
  },
  {
   "cell_type": "code",
   "execution_count": 26,
   "metadata": {},
   "outputs": [
    {
     "data": {
      "text/plain": [
       "0.7562721984879435"
      ]
     },
     "execution_count": 26,
     "metadata": {},
     "output_type": "execute_result"
    }
   ],
   "source": [
    "disparate_impact(df, 'Gender', 'Salary', 0, 1, 150000)"
   ]
  },
  {
   "cell_type": "markdown",
   "metadata": {},
   "source": [
    "To avoid falling into Simpson's paradox, conditional demographic disparity is also used as a metric.\n",
    "As detailed [here](https://docs.aws.amazon.com/sagemaker/latest/dg/clarify-data-bias-metric-cddl.html), \n",
    "\n",
    "The range of values reveal that:\n",
    "\n",
    "+1: when there no rejections in facet a or subgroup and no acceptances in facet d or subgroup\n",
    "\n",
    "Positive values indicate there is a demographic disparity as facet d or subgroup has a greater proportion of the rejected outcomes in the dataset than of the accepted outcomes. The higher the value the less favored the facet and the greater the disparity.\n",
    "\n",
    "Negative values indicate there is not a demographic disparity as facet d or subgroup has a larger proportion of the accepted outcomes in the dataset than of the rejected outcomes. The lower the value the more favored the facet.\n",
    "\n",
    "-1: when there are no rejections in facet d or subgroup and no acceptances in facet a or subgroup\n",
    "\n",
    "We will use education level as a way to create conditionals."
   ]
  },
  {
   "cell_type": "code",
   "execution_count": 27,
   "metadata": {},
   "outputs": [],
   "source": [
    "def conditional_demographic_disparity(df, protected_characteristic, target, privileged_group, unprivileged_group, favourable_threshold, conditonals:list):\n",
    "    \"\"\"\n",
    "    Calculates the conditional demographic disparity.\n",
    "    :param df: the dataframe that you are using, needs to be a pandas df\n",
    "    :param protected_characteristic: the characteristic we are differentiating between (i.e. Gender)\n",
    "    :param target: the target variable (i.e. salary)\n",
    "    :param privileged_group: the group that is privileged\n",
    "    :param unprivileged_group: group that is unprivileged\n",
    "    :param favourable_threshold: amount that labels someone as being treated favourably (we are dealing with salary so that is why we are talking about treating someone favourably)\n",
    "    :param conditionals: variables to be conditionalised on (e.g. education or job type)\n",
    "    :return: conditional demographic disparity\n",
    "    \"\"\"\n",
    "    total_number_of_observations = df.shape[0]\n",
    "    sub_group_count = 0\n",
    "    for i in conditonals:\n",
    "        for j in df[f'{i}'].unique():\n",
    "            curr_df = df.loc[(df[f'{i}']) == j]\n",
    "            sub_group_count += statistical_parity_difference(curr_df, protected_characteristic, target, privileged_group, unprivileged_group, favourable_threshold) * curr_df.shape[0]\n",
    "    \n",
    "    return (1/total_number_of_observations) * sub_group_count\n",
    "\n",
    "\n",
    "\n",
    "    "
   ]
  },
  {
   "cell_type": "code",
   "execution_count": 28,
   "metadata": {},
   "outputs": [
    {
     "data": {
      "text/plain": [
       "-0.1562124086645378"
      ]
     },
     "execution_count": 28,
     "metadata": {},
     "output_type": "execute_result"
    }
   ],
   "source": [
    "conditional_demographic_disparity(df, 'Gender', 'Salary', 0, 1, 150000, ['Job Title', 'Education Level'])"
   ]
  },
  {
   "cell_type": "markdown",
   "metadata": {},
   "source": [
    "# Assessing the datasets with missing data\n",
    "\n",
    "Two more datasets will be created. One will be missing data entirely at random. That means at random, data points will be taken out and replaced with a NaN value.\n",
    "The other dataset will be missing data for more systematic reasons. So 15% of salary data will be missing from women and 5% of data missing will be from men. \n",
    "\n",
    "The missing data will be imputed using a (fair) imputer and then assessed in order to compare results across the board.\n",
    "\n",
    "Note that in both cases we only ever impute on the salary column. This is to create as controlled an environment as possible."
   ]
  },
  {
   "cell_type": "markdown",
   "metadata": {},
   "source": [
    "## Data missing completely at random"
   ]
  },
  {
   "cell_type": "code",
   "execution_count": 29,
   "metadata": {},
   "outputs": [],
   "source": [
    "completely_missing_df = df.copy()"
   ]
  },
  {
   "cell_type": "code",
   "execution_count": 30,
   "metadata": {},
   "outputs": [
    {
     "data": {
      "text/plain": [
       "1339.6000000000001"
      ]
     },
     "execution_count": 30,
     "metadata": {},
     "output_type": "execute_result"
    }
   ],
   "source": [
    "completely_missing_df.shape[0] * 0.2"
   ]
  },
  {
   "cell_type": "code",
   "execution_count": 31,
   "metadata": {},
   "outputs": [],
   "source": [
    "num_nan_values = 1340 # represents 20% of total values. Because we want to remain consistent.\n",
    "indices_to_replace = np.random.choice(completely_missing_df.index, num_nan_values, replace=False)\n",
    "completely_missing_df.loc[indices_to_replace, 'Salary'] = np.nan"
   ]
  },
  {
   "cell_type": "code",
   "execution_count": 32,
   "metadata": {},
   "outputs": [
    {
     "data": {
      "text/plain": [
       "Age                    6698\n",
       "Gender                 6698\n",
       "Education Level        6698\n",
       "Job Title              6698\n",
       "Years of Experience    6698\n",
       "Salary                 5358\n",
       "dtype: int64"
      ]
     },
     "execution_count": 32,
     "metadata": {},
     "output_type": "execute_result"
    }
   ],
   "source": [
    "completely_missing_df.count()"
   ]
  },
  {
   "cell_type": "code",
   "execution_count": 33,
   "metadata": {},
   "outputs": [
    {
     "name": "stdout",
     "output_type": "stream",
     "text": [
      "'Number of missing values for men: 736'\n",
      "'Number of missing values for women: 601'\n"
     ]
    }
   ],
   "source": [
    "print(f\"Number of missing values for men: {completely_missing_df[completely_missing_df['Gender'] == 0]['Salary'].isnull().sum()}\")\n",
    "print(f\"Number of missing values for women: {completely_missing_df[completely_missing_df['Gender'] == 1]['Salary'].isnull().sum()}\")"
   ]
  },
  {
   "cell_type": "markdown",
   "metadata": {},
   "source": [
    "### Imputation of completely missing at random dataset"
   ]
  },
  {
   "cell_type": "code",
   "execution_count": 34,
   "metadata": {},
   "outputs": [
    {
     "data": {
      "text/html": [
       "<div>\n",
       "<style scoped>\n",
       "    .dataframe tbody tr th:only-of-type {\n",
       "        vertical-align: middle;\n",
       "    }\n",
       "\n",
       "    .dataframe tbody tr th {\n",
       "        vertical-align: top;\n",
       "    }\n",
       "\n",
       "    .dataframe thead th {\n",
       "        text-align: right;\n",
       "    }\n",
       "</style>\n",
       "<table border=\"1\" class=\"dataframe\">\n",
       "  <thead>\n",
       "    <tr style=\"text-align: right;\">\n",
       "      <th></th>\n",
       "      <th>Age</th>\n",
       "      <th>Gender</th>\n",
       "      <th>Education Level</th>\n",
       "      <th>Job Title</th>\n",
       "      <th>Years of Experience</th>\n",
       "      <th>Salary</th>\n",
       "    </tr>\n",
       "  </thead>\n",
       "  <tbody>\n",
       "    <tr>\n",
       "      <th>0</th>\n",
       "      <td>32.0</td>\n",
       "      <td>0.0</td>\n",
       "      <td>1.0</td>\n",
       "      <td>1.0</td>\n",
       "      <td>5.0</td>\n",
       "      <td>90000.0</td>\n",
       "    </tr>\n",
       "    <tr>\n",
       "      <th>1</th>\n",
       "      <td>28.0</td>\n",
       "      <td>1.0</td>\n",
       "      <td>2.0</td>\n",
       "      <td>1.0</td>\n",
       "      <td>3.0</td>\n",
       "      <td>65000.0</td>\n",
       "    </tr>\n",
       "    <tr>\n",
       "      <th>2</th>\n",
       "      <td>45.0</td>\n",
       "      <td>0.0</td>\n",
       "      <td>3.0</td>\n",
       "      <td>4.0</td>\n",
       "      <td>15.0</td>\n",
       "      <td>150000.0</td>\n",
       "    </tr>\n",
       "    <tr>\n",
       "      <th>3</th>\n",
       "      <td>36.0</td>\n",
       "      <td>1.0</td>\n",
       "      <td>1.0</td>\n",
       "      <td>1.0</td>\n",
       "      <td>7.0</td>\n",
       "      <td>60000.0</td>\n",
       "    </tr>\n",
       "    <tr>\n",
       "      <th>4</th>\n",
       "      <td>52.0</td>\n",
       "      <td>0.0</td>\n",
       "      <td>2.0</td>\n",
       "      <td>3.0</td>\n",
       "      <td>20.0</td>\n",
       "      <td>200000.0</td>\n",
       "    </tr>\n",
       "  </tbody>\n",
       "</table>\n",
       "</div>"
      ],
      "text/plain": [
       "    Age  Gender  Education Level  Job Title  Years of Experience    Salary\n",
       "0  32.0     0.0              1.0        1.0                  5.0   90000.0\n",
       "1  28.0     1.0              2.0        1.0                  3.0   65000.0\n",
       "2  45.0     0.0              3.0        4.0                 15.0  150000.0\n",
       "3  36.0     1.0              1.0        1.0                  7.0   60000.0\n",
       "4  52.0     0.0              2.0        3.0                 20.0  200000.0"
      ]
     },
     "execution_count": 34,
     "metadata": {},
     "output_type": "execute_result"
    }
   ],
   "source": [
    "from sklearn.experimental import enable_iterative_imputer\n",
    "from sklearn.impute import IterativeImputer\n",
    "# TODO: try and implement fair imputer instead of using iterative imputation\n",
    "\n",
    "imp = IterativeImputer(max_iter=10, random_state=0)\n",
    "imputed_df = pd.DataFrame(imp.fit_transform(completely_missing_df))\n",
    "imputed_df.columns = completely_missing_df.columns\n",
    "imputed_df.index = completely_missing_df.index\n",
    "imputed_df.head()\n",
    "\n"
   ]
  },
  {
   "cell_type": "code",
   "execution_count": 35,
   "metadata": {},
   "outputs": [
    {
     "data": {
      "text/plain": [
       "Age                    6698\n",
       "Gender                 6698\n",
       "Education Level        6698\n",
       "Job Title              6698\n",
       "Years of Experience    6698\n",
       "Salary                 6698\n",
       "dtype: int64"
      ]
     },
     "execution_count": 35,
     "metadata": {},
     "output_type": "execute_result"
    }
   ],
   "source": [
    "imputed_df.count()"
   ]
  },
  {
   "cell_type": "code",
   "execution_count": 36,
   "metadata": {},
   "outputs": [],
   "source": [
    "# conversion takes place just to keep naming of variables easy to track\n",
    "# needed to temporarily use imputed_df just to ensure that columns and index were properly kept track of\n",
    "completely_missing_df = imputed_df.copy()"
   ]
  },
  {
   "cell_type": "markdown",
   "metadata": {},
   "source": [
    "### Evaluating fairness using same fairness metrics as before"
   ]
  },
  {
   "cell_type": "code",
   "execution_count": 37,
   "metadata": {},
   "outputs": [
    {
     "name": "stdout",
     "output_type": "stream",
     "text": [
      "('Demographic parity for the dataset where data is missing entirely at random '\n",
      " 'is: -0.08881119254139175')\n",
      "('Disparate impact for the dataset where data is missing entirely at random '\n",
      " 'is: 0.7395959362464464')\n",
      "('Conditional demographic disparity for the dataset where data is missing '\n",
      " 'entirely at random is: -0.16055888344705088')\n"
     ]
    }
   ],
   "source": [
    "print(f\"Demographic parity for the dataset where data is missing entirely at random is: {statistical_parity_difference(completely_missing_df, 'Gender', 'Salary', 0, 1, 150000)}\")\n",
    "print(f\"Disparate impact for the dataset where data is missing entirely at random is: {disparate_impact(completely_missing_df, 'Gender', 'Salary', 0, 1, 150000)}\")\n",
    "print(f\"Conditional demographic disparity for the dataset where data is missing entirely at random is: {conditional_demographic_disparity(completely_missing_df, 'Gender', 'Salary', 0, 1, 150000, ['Job Title', 'Education Level'])}\")"
   ]
  },
  {
   "cell_type": "markdown",
   "metadata": {},
   "source": [
    "### Imputation of dataset that is missing systematically"
   ]
  },
  {
   "cell_type": "code",
   "execution_count": 38,
   "metadata": {},
   "outputs": [],
   "source": [
    "missing_system_df = df.copy()\n"
   ]
  },
  {
   "cell_type": "code",
   "execution_count": 39,
   "metadata": {},
   "outputs": [],
   "source": [
    "num_nan_values = round(missing_system_df.shape[0] * 0.15)\n",
    "indices_to_replace = missing_system_df[missing_system_df['Gender'] == 1].index\n",
    "indices_to_replace_subset = np.random.choice(indices_to_replace, num_nan_values, replace=False)\n",
    "missing_system_df.loc[indices_to_replace_subset, 'Salary'] = np.nan\n",
    "\n"
   ]
  },
  {
   "cell_type": "code",
   "execution_count": 40,
   "metadata": {},
   "outputs": [
    {
     "data": {
      "text/plain": [
       "Age                    6698\n",
       "Gender                 6698\n",
       "Education Level        6698\n",
       "Job Title              6698\n",
       "Years of Experience    6698\n",
       "Salary                 5693\n",
       "dtype: int64"
      ]
     },
     "execution_count": 40,
     "metadata": {},
     "output_type": "execute_result"
    }
   ],
   "source": [
    "missing_system_df.count()"
   ]
  },
  {
   "cell_type": "code",
   "execution_count": 41,
   "metadata": {},
   "outputs": [],
   "source": [
    "num_nan_values = round(missing_system_df.shape[0] * 0.05)\n",
    "indices_to_replace = missing_system_df[missing_system_df['Gender'] == 0].index\n",
    "indices_to_replace_subset = np.random.choice(indices_to_replace, num_nan_values, replace=False)\n",
    "missing_system_df.loc[indices_to_replace_subset, 'Salary'] = np.nan"
   ]
  },
  {
   "cell_type": "code",
   "execution_count": 42,
   "metadata": {},
   "outputs": [
    {
     "data": {
      "text/plain": [
       "Age                    6698\n",
       "Gender                 6698\n",
       "Education Level        6698\n",
       "Job Title              6698\n",
       "Years of Experience    6698\n",
       "Salary                 5358\n",
       "dtype: int64"
      ]
     },
     "execution_count": 42,
     "metadata": {},
     "output_type": "execute_result"
    }
   ],
   "source": [
    "missing_system_df.count()"
   ]
  },
  {
   "cell_type": "code",
   "execution_count": 43,
   "metadata": {},
   "outputs": [
    {
     "name": "stdout",
     "output_type": "stream",
     "text": [
      "'Number of missing values for men: 335'\n",
      "'Number of missing values for women: 1005'\n"
     ]
    }
   ],
   "source": [
    "print(f\"Number of missing values for men: {missing_system_df[missing_system_df['Gender'] == 0]['Salary'].isnull().sum()}\")\n",
    "print(f\"Number of missing values for women: {missing_system_df[missing_system_df['Gender'] == 1]['Salary'].isnull().sum()}\")"
   ]
  },
  {
   "cell_type": "code",
   "execution_count": 44,
   "metadata": {},
   "outputs": [
    {
     "data": {
      "text/html": [
       "<div>\n",
       "<style scoped>\n",
       "    .dataframe tbody tr th:only-of-type {\n",
       "        vertical-align: middle;\n",
       "    }\n",
       "\n",
       "    .dataframe tbody tr th {\n",
       "        vertical-align: top;\n",
       "    }\n",
       "\n",
       "    .dataframe thead th {\n",
       "        text-align: right;\n",
       "    }\n",
       "</style>\n",
       "<table border=\"1\" class=\"dataframe\">\n",
       "  <thead>\n",
       "    <tr style=\"text-align: right;\">\n",
       "      <th></th>\n",
       "      <th>Age</th>\n",
       "      <th>Gender</th>\n",
       "      <th>Education Level</th>\n",
       "      <th>Job Title</th>\n",
       "      <th>Years of Experience</th>\n",
       "      <th>Salary</th>\n",
       "    </tr>\n",
       "  </thead>\n",
       "  <tbody>\n",
       "    <tr>\n",
       "      <th>0</th>\n",
       "      <td>32.0</td>\n",
       "      <td>0.0</td>\n",
       "      <td>1.0</td>\n",
       "      <td>1.0</td>\n",
       "      <td>5.0</td>\n",
       "      <td>90000.000000</td>\n",
       "    </tr>\n",
       "    <tr>\n",
       "      <th>1</th>\n",
       "      <td>28.0</td>\n",
       "      <td>1.0</td>\n",
       "      <td>2.0</td>\n",
       "      <td>1.0</td>\n",
       "      <td>3.0</td>\n",
       "      <td>89234.917919</td>\n",
       "    </tr>\n",
       "    <tr>\n",
       "      <th>2</th>\n",
       "      <td>45.0</td>\n",
       "      <td>0.0</td>\n",
       "      <td>3.0</td>\n",
       "      <td>4.0</td>\n",
       "      <td>15.0</td>\n",
       "      <td>150000.000000</td>\n",
       "    </tr>\n",
       "    <tr>\n",
       "      <th>3</th>\n",
       "      <td>36.0</td>\n",
       "      <td>1.0</td>\n",
       "      <td>1.0</td>\n",
       "      <td>1.0</td>\n",
       "      <td>7.0</td>\n",
       "      <td>88404.884562</td>\n",
       "    </tr>\n",
       "    <tr>\n",
       "      <th>4</th>\n",
       "      <td>52.0</td>\n",
       "      <td>0.0</td>\n",
       "      <td>2.0</td>\n",
       "      <td>3.0</td>\n",
       "      <td>20.0</td>\n",
       "      <td>200000.000000</td>\n",
       "    </tr>\n",
       "  </tbody>\n",
       "</table>\n",
       "</div>"
      ],
      "text/plain": [
       "    Age  Gender  Education Level  Job Title  Years of Experience  \\\n",
       "0  32.0     0.0              1.0        1.0                  5.0   \n",
       "1  28.0     1.0              2.0        1.0                  3.0   \n",
       "2  45.0     0.0              3.0        4.0                 15.0   \n",
       "3  36.0     1.0              1.0        1.0                  7.0   \n",
       "4  52.0     0.0              2.0        3.0                 20.0   \n",
       "\n",
       "          Salary  \n",
       "0   90000.000000  \n",
       "1   89234.917919  \n",
       "2  150000.000000  \n",
       "3   88404.884562  \n",
       "4  200000.000000  "
      ]
     },
     "execution_count": 44,
     "metadata": {},
     "output_type": "execute_result"
    }
   ],
   "source": [
    "imp = IterativeImputer(max_iter=10, random_state=0)\n",
    "imputed_df = pd.DataFrame(imp.fit_transform(missing_system_df))\n",
    "imputed_df.columns = missing_system_df.columns\n",
    "imputed_df.index = missing_system_df.index\n",
    "imputed_df.head()"
   ]
  },
  {
   "cell_type": "code",
   "execution_count": 45,
   "metadata": {},
   "outputs": [
    {
     "data": {
      "text/plain": [
       "Age                    6698\n",
       "Gender                 6698\n",
       "Education Level        6698\n",
       "Job Title              6698\n",
       "Years of Experience    6698\n",
       "Salary                 6698\n",
       "dtype: int64"
      ]
     },
     "execution_count": 45,
     "metadata": {},
     "output_type": "execute_result"
    }
   ],
   "source": [
    "imputed_df.count()"
   ]
  },
  {
   "cell_type": "code",
   "execution_count": 46,
   "metadata": {},
   "outputs": [],
   "source": [
    "# conversion takes place just to keep naming of variables easy to track\n",
    "# needed to temporarily use imputed_df just to ensure that columns and index were properly kept track of\n",
    "missing_system_df = imputed_df.copy()"
   ]
  },
  {
   "cell_type": "markdown",
   "metadata": {},
   "source": [
    "### Evaluating fairness with dataset that is missing systematically"
   ]
  },
  {
   "cell_type": "code",
   "execution_count": 47,
   "metadata": {},
   "outputs": [
    {
     "name": "stdout",
     "output_type": "stream",
     "text": [
      "('Demographic parity for the dataset where data is missing systematically is: '\n",
      " '-0.11654012129225189')\n",
      "('Disparate impact for the dataset where data is missing systematically is: '\n",
      " '0.6678425580249561')\n",
      "('Conditional demographic disparity for the dataset where data is missing '\n",
      " 'systematically is: -0.21155670375629493')\n"
     ]
    }
   ],
   "source": [
    "print(f\"Demographic parity for the dataset where data is missing systematically is: {statistical_parity_difference(missing_system_df, 'Gender', 'Salary', 0, 1, 150000)}\")\n",
    "print(f\"Disparate impact for the dataset where data is missing systematically is: {disparate_impact(missing_system_df, 'Gender', 'Salary', 0, 1, 150000)}\")\n",
    "print(f\"Conditional demographic disparity for the dataset where data is missing systematically is: {conditional_demographic_disparity(missing_system_df, 'Gender', 'Salary', 0, 1, 150000, ['Job Title', 'Education Level'])}\")"
   ]
  },
  {
   "cell_type": "markdown",
   "metadata": {},
   "source": [
    "# Results\n",
    "\n",
    "One set of results that were obtained are as follows (note that due to the randomness involved with imputation, results can differ):\n",
    "#### Baseline results:\n",
    "- Demographic/ statistical parity: -0.08717368656642066\n",
    "- Disparate impact: 0.7562721984879435\n",
    "- Conditional demographic disparity: -0.15839796446659044\n",
    "\n",
    "#### Data completely missing at randoom:\n",
    "- Demographic/ statistical parity: -0.06926364578518063\n",
    "- Disparate impact: 0.7566824462417243\n",
    "- Conditional demographic disparity: -0.12449082811419396\n",
    "\n",
    "#### Data missing systematically:\n",
    "- Demographic/ statistical parity: -0.11594522347228114\n",
    "- Disparate impact: 0.6720840405495038\n",
    "- Conditional demographic disparity: -0.21333260553428218"
   ]
  },
  {
   "cell_type": "markdown",
   "metadata": {},
   "source": [
    "As we can see Data that is missing systematically experiences radical divergences from the baseline results whereas data that is missing completely at random does not experience such big changes. \n",
    "\n",
    "These results can be used to demonstrate that imputation has much more negative effects on fairness when data is missing systematically. "
   ]
  },
  {
   "cell_type": "markdown",
   "metadata": {},
   "source": []
  }
 ],
 "metadata": {
  "kernelspec": {
   "display_name": "venv",
   "language": "python",
   "name": "python3"
  },
  "language_info": {
   "codemirror_mode": {
    "name": "ipython",
    "version": 3
   },
   "file_extension": ".py",
   "mimetype": "text/x-python",
   "name": "python",
   "nbconvert_exporter": "python",
   "pygments_lexer": "ipython3",
   "version": "3.11.7"
  }
 },
 "nbformat": 4,
 "nbformat_minor": 2
}
